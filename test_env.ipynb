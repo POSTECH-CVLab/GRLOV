{
 "cells": [
  {
   "cell_type": "code",
   "execution_count": 1,
   "source": [
    "import os\n",
    "os.environ[\"MPLCONFIGDIR\"] = \".\"\n",
    "import gym\n",
    "from manipulation_main.common import io_utils\n",
    "import matplotlib.pyplot as plt\n",
    "from ipycanvas import Canvas\n",
    "import numpy as np\n",
    "from PIL import Image"
   ],
   "outputs": [],
   "metadata": {}
  },
  {
   "cell_type": "code",
   "execution_count": 2,
   "source": [
    "config = io_utils.load_yaml(\"config/gripper_grasp.yaml\")\n",
    "env = gym.make('gripper-env-v0', config=config)\n",
    "done = False"
   ],
   "outputs": [
    {
     "output_type": "stream",
     "name": "stdout",
     "text": [
      "dataset random_urdfs\n"
     ]
    }
   ],
   "metadata": {}
  },
  {
   "cell_type": "code",
   "execution_count": 3,
   "source": [
    "class Button:\n",
    "    def __init__(self, canvas, pt, size=50, text=\"\"):\n",
    "        self.canvas = canvas\n",
    "        self.pt = pt\n",
    "        self.size = 50\n",
    "        canvas.fill_style = 'black'\n",
    "        canvas.fill_rect(pt[0], pt[1], size)\n",
    "        if text != \"\":\n",
    "            canvas.font = '32px serif'\n",
    "            canvas.fill_style = 'white'\n",
    "            canvas.fill_text(text, pt[0], pt[1]+size)\n",
    "    \n",
    "    def is_clicked(self, pt):\n",
    "        return self.pt[0] < pt[0] < self.pt[0] + self.size and \\\n",
    "            self.pt[1] < pt[1] < self.pt[1] + self.size\n",
    "\n"
   ],
   "outputs": [],
   "metadata": {}
  },
  {
   "cell_type": "code",
   "execution_count": 4,
   "source": [
    "canvas = Canvas(width=500, height=500)\n",
    "canvas.fill_style = 'white'\n",
    "canvas.fill_rect(0, 0, canvas.width, canvas.height)\n",
    "north = Button(canvas, (50, 0), text=\"N\")\n",
    "south = Button(canvas, (50, 50), text=\"S\")\n",
    "west = Button(canvas, (0, 50), text=\"W\")\n",
    "east = Button(canvas, (100, 50), text=\"E\")\n",
    "up = Button(canvas, (175, 0), text=\"Up\")\n",
    "down = Button(canvas, (175, 50), text=\"Dn\")\n",
    "grab = Button(canvas, (250, 0), text=\"Gr\")\n",
    "release = Button(canvas, (250, 50), text=\"Rel\")\n",
    "buttons = [north, south, west, east, up, down, grab, release]\n",
    "\n",
    "def handle_mouse_down_fn(x, y):\n",
    "    global env, done, buttons, canvas\n",
    "    bool_buttons = [z.is_clicked((x, y)) for z in buttons]\n",
    "    n, s, w, e, u, d, g, rel = bool_buttons\n",
    "    if done:\n",
    "        obs = env.reset()\n",
    "    action = np.zeros((5,), dtype=np.float)\n",
    "    if (w): # left\n",
    "        action[0] = 1.\n",
    "    elif (e): # right\n",
    "        action[0] = -1.\n",
    "    elif (n): # up\n",
    "        action[1] = 1.\n",
    "    elif (s): # down\n",
    "        action[1] = -1.\n",
    "    elif (u): # approach\n",
    "        action[2] = -1.\n",
    "    elif (d): # deapproach\n",
    "        action[2] = 1.\n",
    "    elif (rel): # release ctrl\n",
    "        action[4] = 1.\n",
    "    elif (g): # grab shift\n",
    "        action[4] = -1.\n",
    "\n",
    "    obs, reward, done, _ = env.step(action)\n",
    "    obs = obs.astype(np.uint8)\n",
    "    obs = Image.fromarray(obs[..., :3])\n",
    "    obs = obs.resize((obs.size[0] * 4, obs.size[1] * 4))\n",
    "    canvas.put_image_data(np.array(obs), y=125)\n",
    "    canvas.fill_style = 'white'\n",
    "    canvas.fill_rect(0, 100, 500, 25)\n",
    "    canvas.fill_style = 'black'\n",
    "    canvas.font = '20px sans-serif'\n",
    "    canvas.fill_text(f\"reward: {reward}\", 0, 125)\n",
    "\n",
    "\n",
    "canvas.on_mouse_down(handle_mouse_down_fn)\n",
    "canvas"
   ],
   "outputs": [
    {
     "output_type": "display_data",
     "data": {
      "text/plain": [
       "Canvas(width=500)"
      ],
      "application/vnd.jupyter.widget-view+json": {
       "version_major": 2,
       "version_minor": 0,
       "model_id": "f46075bd2cf746888e612055bd51903e"
      }
     },
     "metadata": {}
    }
   ],
   "metadata": {}
  }
 ],
 "metadata": {
  "interpreter": {
   "hash": "f9feca07648e5862d07401e123abb35faef99e8dfd0bc7bf07a9368473385ed7"
  },
  "kernelspec": {
   "name": "python3",
   "display_name": "Python 3.7.10 64-bit ('bullet': conda)"
  },
  "language_info": {
   "codemirror_mode": {
    "name": "ipython",
    "version": 3
   },
   "file_extension": ".py",
   "mimetype": "text/x-python",
   "name": "python",
   "nbconvert_exporter": "python",
   "pygments_lexer": "ipython3",
   "version": "3.7.10"
  },
  "orig_nbformat": 4
 },
 "nbformat": 4,
 "nbformat_minor": 2
}